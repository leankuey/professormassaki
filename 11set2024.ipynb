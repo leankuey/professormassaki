{
  "nbformat": 4,
  "nbformat_minor": 0,
  "metadata": {
    "colab": {
      "provenance": [],
      "authorship_tag": "ABX9TyNsouTxMt1UNTkcU9SOcpL6",
      "include_colab_link": true
    },
    "kernelspec": {
      "name": "python3",
      "display_name": "Python 3"
    },
    "language_info": {
      "name": "python"
    }
  },
  "cells": [
    {
      "cell_type": "markdown",
      "metadata": {
        "id": "view-in-github",
        "colab_type": "text"
      },
      "source": [
        "<a href=\"https://colab.research.google.com/github/leankuey/professormassaki/blob/main/11set2024.ipynb\" target=\"_parent\"><img src=\"https://colab.research.google.com/assets/colab-badge.svg\" alt=\"Open In Colab\"/></a>"
      ]
    },
    {
      "cell_type": "markdown",
      "source": [
        "# **Par ou impar**"
      ],
      "metadata": {
        "id": "XMbJ2t8MoHWO"
      }
    },
    {
      "cell_type": "code",
      "execution_count": 2,
      "metadata": {
        "colab": {
          "base_uri": "https://localhost:8080/"
        },
        "id": "JaNxKJfqn9c9",
        "outputId": "0eccfbf1-64b0-4088-9b3a-dd70efdff272"
      },
      "outputs": [
        {
          "output_type": "stream",
          "name": "stdout",
          "text": [
            "Digite um numero inteiro: 42\n",
            "O numero 42 é par.\n"
          ]
        }
      ],
      "source": [
        "numero = int(input(\"Digite um numero inteiro: \"))\n",
        "if numero % 2 == 0:\n",
        "  print(f\"O numero {numero} é par.\")\n",
        "else:\n",
        "  print(f\"O numero {numero} é impar.\")"
      ]
    },
    {
      "cell_type": "markdown",
      "source": [
        "# **Raiz Quadrada**"
      ],
      "metadata": {
        "id": "vpIF3l9KpjXg"
      }
    },
    {
      "cell_type": "code",
      "source": [
        "import math\n",
        "numero = float(input(\"Digite um número: \"))\n",
        "if numero >= 0:\n",
        "  raiz_quadrada = math.sqrt(numero)\n",
        "  print(f\"A raiz quadrada de {numero} é {raiz_quadrada:.2f}.\")\n",
        "else:\n",
        "    print(\"Não existe raiz real para este número!\")"
      ],
      "metadata": {
        "colab": {
          "base_uri": "https://localhost:8080/"
        },
        "id": "mTVRcXlCrml1",
        "outputId": "03caef0e-1dcd-459d-ab80-ed827424671a"
      },
      "execution_count": 8,
      "outputs": [
        {
          "output_type": "stream",
          "name": "stdout",
          "text": [
            "Digite um número: 4\n",
            "A raiz quadrada de 4 é 2.00.\n"
          ]
        }
      ]
    },
    {
      "cell_type": "markdown",
      "source": [
        "# **Tamanho da camiseta**"
      ],
      "metadata": {
        "id": "h1GyK18Ks3Im"
      }
    },
    {
      "cell_type": "code",
      "source": [
        "comprimento = float(input(\"Digite a comprimento da camiseta em centimetros: \"))\n",
        "largura = float(input(\"Digite a largura da camiseta em centimetros: \"))\n",
        "if comprimento <= 60 and largura <= 45:\n",
        "  tamanho = \"PP\"\n",
        "elif comprimento <= 65 and largura <= 48:\n",
        "  tamanho = \"P\"\n",
        "elif comprimento <= 70 and largura <= 51:\n",
        "  tamanho = \"M\"\n",
        "elif comprimento <= 75 and largura <= 54:\n",
        "  tamanho = \"G\"\n",
        "elif comprimento <= 80 and largura <= 57:\n",
        "  tamanho = \"GG\"\n",
        "else:\n",
        "  tamanho = \"XGG\"\n",
        "print(f\"O tamanho da camiseta é {tamanho}.\")"
      ],
      "metadata": {
        "colab": {
          "base_uri": "https://localhost:8080/"
        },
        "id": "_tffbPnFs-w-",
        "outputId": "cd8f8690-4101-4bce-b291-b06cd8fe93ab"
      },
      "execution_count": 9,
      "outputs": [
        {
          "output_type": "stream",
          "name": "stdout",
          "text": [
            "Digite a comprimento da camiseta em centimetros: 5\n",
            "Digite a largura da camiseta em centimetros: 5\n",
            "O tamanho da camiseta é PP.\n"
          ]
        }
      ]
    }
  ]
}