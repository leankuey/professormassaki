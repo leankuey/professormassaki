{
  "nbformat": 4,
  "nbformat_minor": 0,
  "metadata": {
    "colab": {
      "provenance": [],
      "authorship_tag": "ABX9TyOOEpGbsrvUHZem/JDdok7D",
      "include_colab_link": true
    },
    "kernelspec": {
      "name": "python3",
      "display_name": "Python 3"
    },
    "language_info": {
      "name": "python"
    }
  },
  "cells": [
    {
      "cell_type": "markdown",
      "metadata": {
        "id": "view-in-github",
        "colab_type": "text"
      },
      "source": [
        "<a href=\"https://colab.research.google.com/github/leankuey/professormassaki/blob/main/25set2024.ipynb\" target=\"_parent\"><img src=\"https://colab.research.google.com/assets/colab-badge.svg\" alt=\"Open In Colab\"/></a>"
      ]
    },
    {
      "cell_type": "markdown",
      "source": [
        "# **Soma de duas variaveis**"
      ],
      "metadata": {
        "id": "MnosQrScttKO"
      }
    },
    {
      "cell_type": "code",
      "execution_count": 45,
      "metadata": {
        "colab": {
          "base_uri": "https://localhost:8080/"
        },
        "id": "BtZa94ekmJRM",
        "outputId": "811ec3c3-c672-445e-d034-6335f59f86c4"
      },
      "outputs": [
        {
          "output_type": "stream",
          "name": "stdout",
          "text": [
            "Deseja realizar a soma de 2 variaveis? (S/N): s\n",
            "Digite a variavel: 2\n",
            "Digite a variavel: 3\n",
            "A soma de [var1] e [var2] é: 5.00\n",
            "\n",
            "Deseja realizar a soma de 2 variaveis? (S/N): s\n",
            "Digite a variavel: 5\n",
            "Digite a variavel: 9\n",
            "A soma de [var1] e [var2] é: 14.00\n",
            "\n",
            "Deseja realizar a soma de 2 variaveis? (S/N): banana\n",
            "Resposta inválida, por favor digite s para sim ou n para não\n",
            "Deseja realizar a soma de 2 variaveis? (S/N): n\n",
            "Operação finalizada\n"
          ]
        }
      ],
      "source": [
        "while True:\n",
        "  resposta = input(\"Deseja realizar a soma de 2 variaveis? (S/N): \").strip().upper()\n",
        "  if resposta == 'S':\n",
        "    var1 = float(input(\"Digite a variavel: \"))\n",
        "    var2 = float(input(\"Digite a variavel: \"))\n",
        "    soma = var1 + var2\n",
        "    print(f\"A soma de [var1] e [var2] é: {soma:.2f}\\n\")\n",
        "  elif resposta == 'N':\n",
        "    print(\"Operação finalizada\")\n",
        "    break\n",
        "  else:\n",
        "    print(\"Resposta inválida! Por favor digite s para sim ou n para não\")"
      ]
    },
    {
      "cell_type": "markdown",
      "source": [
        "# **Soma de duas variaveis 2**"
      ],
      "metadata": {
        "id": "6zEZJaIv0lj7"
      }
    },
    {
      "cell_type": "code",
      "source": [
        "while True:\n",
        "  resposta = input(\"Deseja realizar uma soma? (sim/não): \").lower()\n",
        "  if resposta == \"sim\":\n",
        "    num1 = float(input(\"Digite um número: \"))\n",
        "    num2 = float(input(\"Digite um número: \"))\n",
        "    soma = num1 + num2\n",
        "    print(\"A soma é:\", soma)\n",
        "  else:\n",
        "    print(\"Encerrando programa\")\n",
        "    break"
      ],
      "metadata": {
        "colab": {
          "base_uri": "https://localhost:8080/"
        },
        "id": "PNSnYtjh0qv7",
        "outputId": "131d6472-c56d-40f6-d5f8-98c4920cb9da"
      },
      "execution_count": 52,
      "outputs": [
        {
          "output_type": "stream",
          "name": "stdout",
          "text": [
            "Deseja realizar uma soma? (sim/não): sim\n",
            "Digite um número: 1\n",
            "Digite um número: 1\n",
            "A soma é: 2.0\n",
            "Deseja realizar uma soma? (sim/não): nao\n",
            "Encerrando programa\n"
          ]
        }
      ]
    }
  ]
}