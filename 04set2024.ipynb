{
  "nbformat": 4,
  "nbformat_minor": 0,
  "metadata": {
    "colab": {
      "provenance": [],
      "authorship_tag": "ABX9TyOFw48gtp2rhP/ARXtcUB6p",
      "include_colab_link": true
    },
    "kernelspec": {
      "name": "python3",
      "display_name": "Python 3"
    },
    "language_info": {
      "name": "python"
    }
  },
  "cells": [
    {
      "cell_type": "markdown",
      "metadata": {
        "id": "view-in-github",
        "colab_type": "text"
      },
      "source": [
        "<a href=\"https://colab.research.google.com/github/leankuey/professormassaki/blob/main/04set2024.ipynb\" target=\"_parent\"><img src=\"https://colab.research.google.com/assets/colab-badge.svg\" alt=\"Open In Colab\"/></a>"
      ]
    },
    {
      "cell_type": "markdown",
      "source": [
        "# **Exemplo 2)Polegadas para milimetro**"
      ],
      "metadata": {
        "id": "hwPIV3BEi39H"
      }
    },
    {
      "cell_type": "code",
      "execution_count": 12,
      "metadata": {
        "colab": {
          "base_uri": "https://localhost:8080/"
        },
        "id": "2Zq6hQ0RecNp",
        "outputId": "9da19560-1fef-4f92-c694-36f5a7daad26"
      },
      "outputs": [
        {
          "output_type": "stream",
          "name": "stdout",
          "text": [
            "Digite a medida em polegadas: 4\n",
            "Valor em mm=  101.6\n"
          ]
        }
      ],
      "source": [
        "polegadas = float(input(\"Digite a medida em polegadas: \"))\n",
        "milimetros = polegadas * 25.4\n",
        "print(\"Valor em mm= \",milimetros)"
      ]
    },
    {
      "cell_type": "markdown",
      "source": [
        "# **Exemplo 5) Calculo de Volume esfera**"
      ],
      "metadata": {
        "id": "Tt5lo-cEkCCQ"
      }
    },
    {
      "cell_type": "code",
      "source": [
        "from math import pi\n",
        "r = float(input(\"Digite o raio: \"))\n",
        "vol =(4/3)*pi*r**3\n",
        "print(vol)"
      ],
      "metadata": {
        "colab": {
          "base_uri": "https://localhost:8080/"
        },
        "id": "9oie2NhaloHq",
        "outputId": "f0eb059c-f2e4-4122-9515-1e241487bfe2"
      },
      "execution_count": 11,
      "outputs": [
        {
          "output_type": "stream",
          "name": "stdout",
          "text": [
            "Digite o raio: 10\n",
            "4188.790204786391\n"
          ]
        }
      ]
    },
    {
      "cell_type": "markdown",
      "source": [
        "# **Exemplo 6) Angulo para radianos**"
      ],
      "metadata": {
        "id": "8GLCIySopBMo"
      }
    },
    {
      "cell_type": "code",
      "source": [
        "vgraus = float(input(\"Digite o valor em graus: \"))\n",
        "vrad = (vgraus*pi)/180\n",
        "vrad = vgraus*pi/180\n",
        "print(vrad)"
      ],
      "metadata": {
        "colab": {
          "base_uri": "https://localhost:8080/"
        },
        "id": "5MfOu9fMpMrB",
        "outputId": "1d5cb9ae-f463-4ec2-a91b-9f23d497e13c"
      },
      "execution_count": 36,
      "outputs": [
        {
          "output_type": "stream",
          "name": "stdout",
          "text": [
            "Digite o valor em graus: 2\n",
            "0.03490658503988659\n"
          ]
        }
      ]
    },
    {
      "cell_type": "markdown",
      "source": [
        "# **Exemplo 7) Radianos para graus**"
      ],
      "metadata": {
        "id": "emMgfhgMsiNw"
      }
    },
    {
      "cell_type": "code",
      "source": [
        "vrad = float(input(\"Digite o valor em radianus: \"))\n",
        "vgraus = (vrad/pi)*180\n",
        "vgraus = vrad*180/pi\n",
        "print(vgraus)"
      ],
      "metadata": {
        "colab": {
          "base_uri": "https://localhost:8080/"
        },
        "id": "EusLNCxStFHt",
        "outputId": "6d82578e-078b-4bf4-dc95-aec0c7e9ce81"
      },
      "execution_count": 35,
      "outputs": [
        {
          "output_type": "stream",
          "name": "stdout",
          "text": [
            "Digite o valor em radianus: 2\n",
            "114.59155902616465\n"
          ]
        }
      ]
    },
    {
      "cell_type": "markdown",
      "source": [
        "# **Exemplo 8) Radianos para grados**"
      ],
      "metadata": {
        "id": "OdGdAAAAuB0D"
      }
    },
    {
      "cell_type": "code",
      "source": [
        "rad = float(input(\"Digite o valor em radianus: \"))\n",
        "grados = rad*400/(2*pi)\n",
        "print(grados)"
      ],
      "metadata": {
        "colab": {
          "base_uri": "https://localhost:8080/"
        },
        "id": "hhGLQhf6uUHN",
        "outputId": "f1588f50-3964-4648-f662-d3933d9ea7c8"
      },
      "execution_count": 32,
      "outputs": [
        {
          "output_type": "stream",
          "name": "stdout",
          "text": [
            "Digite o valor em radianus: 6.28\n",
            "399.7972170468411\n"
          ]
        }
      ]
    }
  ]
}